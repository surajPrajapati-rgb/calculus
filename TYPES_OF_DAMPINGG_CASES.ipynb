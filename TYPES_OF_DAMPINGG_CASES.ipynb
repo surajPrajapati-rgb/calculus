{
  "cells": [
    {
      "cell_type": "markdown",
      "metadata": {
        "id": "view-in-github",
        "colab_type": "text"
      },
      "source": [
        "<a href=\"https://colab.research.google.com/github/suraj-07-coder/calculus/blob/main/TYPES_OF_DAMPINGG_CASES.ipynb\" target=\"_parent\"><img src=\"https://colab.research.google.com/assets/colab-badge.svg\" alt=\"Open In Colab\"/></a>"
      ]
    },
    {
      "cell_type": "code",
      "execution_count": null,
      "metadata": {
        "id": "AYW7ZVeNoMq1"
      },
      "outputs": [],
      "source": [
        "import math \n",
        "import matplotlib.pyplot as plt"
      ]
    },
    {
      "cell_type": "code",
      "execution_count": null,
      "metadata": {
        "id": "r1JH39lVx8Fs",
        "colab": {
          "base_uri": "https://localhost:8080/"
        },
        "outputId": "c8a811f5-81c8-4104-e302-50abfaab9f53"
      },
      "outputs": [
        {
          "name": "stdout",
          "output_type": "stream",
          "text": [
            "A :1\n",
            "B :1\n",
            "C :4\n",
            "x0 :1\n",
            "v0 :2\n"
          ]
        }
      ],
      "source": [
        "A = float(input('A :'))\n",
        "B = float(input('B :'))\n",
        "C = float(input('C :'))\n",
        "x0 = float(input('x0 :'))\n",
        "v0 = float(input('v0 :')) "
      ]
    },
    {
      "cell_type": "code",
      "execution_count": null,
      "metadata": {
        "id": "8YdhoM2HLttW",
        "colab": {
          "base_uri": "https://localhost:8080/",
          "height": 36
        },
        "outputId": "164066c9-db65-425b-c59d-176a96d40f5c"
      },
      "outputs": [
        {
          "output_type": "execute_result",
          "data": {
            "text/plain": [
              "'underdamping'"
            ],
            "application/vnd.google.colaboratory.intrinsic+json": {
              "type": "string"
            }
          },
          "metadata": {},
          "execution_count": 3
        }
      ],
      "source": [
        "alpha = B/(2*A)\n",
        "beta = math.sqrt(abs((B**2/(4*A**2) - C/A)))\n",
        "# Discriminant value of second order D.E.\n",
        "D = B**2-4*A*C\n",
        "\n",
        "# Checking for types of Damping\n",
        "def damping_type(A,B,C,x0,v0):\n",
        "  if D > 0:\n",
        "    return 'Overdamping'\n",
        "  elif D == 0:\n",
        "    return 'critically damping'\n",
        "  elif D < 0:\n",
        "    return 'underdamping'\n",
        "damping_type(A,B,C,x0,v0)"
      ]
    },
    {
      "cell_type": "code",
      "execution_count": null,
      "metadata": {
        "id": "_jOTylR_x4Q6"
      },
      "outputs": [],
      "source": [
        "tlist = []            # accu for x-axis\n",
        "xlist = []          # accu for y-axis\n",
        "\n",
        "for i in range(100) :\n",
        "  # Appending value for x-axis\n",
        "  tlist.append(i/10) \n",
        "\n",
        "for t in tlist:\n",
        "# In the case of Overdamping\n",
        "  if D > 0 : \n",
        "    # Value of lembda \n",
        "    lem1 = (-B + math.sqrt(D))/(2*A)\n",
        "    lem2 = (-B - math.sqrt(D))/(2*A)\n",
        "\n",
        "    # Cofficiant of x1 and x2 in general solution \n",
        "    D1 = (v0 - lem2*x0)/(lem1-lem2)\n",
        "    D2 = (v0 - lem1*x0)/(lem2-lem1)\n",
        "\n",
        "    # Two Absolute solution\n",
        "    x1 = D1*math.exp(lem1*t)\n",
        "    x2 = D2*math.exp(lem2*t)\n",
        "\n",
        "    # General solution\n",
        "    x = x1*D1 + x2*D2\n",
        "\n",
        "# In the case of Critically Damping\n",
        "  elif D == 0 :    \n",
        "    lembda = -B/(2*A)\n",
        "    x = (x0 + (v0 - lembda*x0)*t)*math.exp((-B*t)/(2*A))\n",
        "\n",
        "# In the case of Underdamping\n",
        "  elif D < 0:       \n",
        "    x = math.exp(-alpha*t)*(x0*math.cos(beta*t) + math.sin(beta*t)*(v0+alpha*x0)/(beta))\n",
        "\n",
        "  # Appending value(x) for y-axis corresponding to value in tlist  \n",
        "  xlist.append(x)         "
      ]
    },
    {
      "cell_type": "code",
      "execution_count": null,
      "metadata": {
        "colab": {
          "base_uri": "https://localhost:8080/",
          "height": 284
        },
        "id": "qQWJIqqPmMH_",
        "outputId": "ec14d9aa-3f7f-49db-c44f-a42042ea90b3"
      },
      "outputs": [
        {
          "data": {
            "application/vnd.google.colaboratory.intrinsic+json": {
              "type": "string"
            },
            "text/plain": [
              "'Overdamping'"
            ]
          },
          "execution_count": 77,
          "metadata": {},
          "output_type": "execute_result"
        },
        {
          "data": {
            "image/png": "[encoded data removed]",
            "text/plain": [
              "<Figure size 432x288 with 1 Axes>"
            ]
          },
          "metadata": {},
          "output_type": "display_data"
        }
      ],
      "source": [
        "plt.plot(tlist,xlist)"
      ]
    },
    {
      "cell_type": "code",
      "execution_count": null,
      "metadata": {
        "colab": {
          "base_uri": "https://localhost:8080/",
          "height": 284
        },
        "id": "bOVbWjBrJ8me",
        "outputId": "beed99bb-5dac-45e5-994d-8e34ef47c6a2"
      },
      "outputs": [
        {
          "data": {
            "application/vnd.google.colaboratory.intrinsic+json": {
              "type": "string"
            },
            "text/plain": [
              "'critically damping'"
            ]
          },
          "execution_count": 73,
          "metadata": {},
          "output_type": "execute_result"
        },
        {
          "data": {
            "image/png": "[encoded data removed]",
            "text/plain": [
              "<Figure size 432x288 with 1 Axes>"
            ]
          },
          "metadata": {},
          "output_type": "display_data"
        }
      ],
      "source": [
        "plt.plot(tlist,xlist)"
      ]
    },
    {
      "cell_type": "code",
      "execution_count": null,
      "metadata": {
        "colab": {
          "base_uri": "https://localhost:8080/",
          "height": 282
        },
        "id": "H0GB6thvKwat",
        "outputId": "1dfdb7af-0a63-4811-830a-4a31c1cc99d4"
      },
      "outputs": [
        {
          "output_type": "execute_result",
          "data": {
            "text/plain": [
              "[<matplotlib.lines.Line2D at 0x7f8881ed2880>]"
            ]
          },
          "metadata": {},
          "execution_count": 5
        },
        {
          "output_type": "display_data",
          "data": {
            "text/plain": [
              "<Figure size 432x288 with 1 Axes>"
            ],
            "image/png": "[encoded data removed]"
          },
          "metadata": {
            "needs_background": "light"
          }
        }
      ],
      "source": [
        "plt.plot(tlist,xlist)"
      ]
    },
    {
      "cell_type": "markdown",
      "metadata": {
        "id": "BhZIPlVx9DrW"
      },
      "source": []
    }
  ],
  "metadata": {
    "colab": {
      "provenance": [],
      "authorship_tag": "ABX9TyPgxjssGvV2XnElb7VNaK6Q",
      "include_colab_link": true
    },
    "kernelspec": {
      "display_name": "Python 3",
      "name": "python3"
    },
    "language_info": {
      "name": "python"
    }
  },
  "nbformat": 4,
  "nbformat_minor": 0
}