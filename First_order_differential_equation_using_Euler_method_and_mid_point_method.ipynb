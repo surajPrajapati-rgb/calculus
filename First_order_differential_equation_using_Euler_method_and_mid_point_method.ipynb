{
  "nbformat": 4,
  "nbformat_minor": 0,
  "metadata": {
    "colab": {
      "provenance": [],
      "toc_visible": true,
      "authorship_tag": "ABX9TyPMs029VmcHFQyUgnQuzBQ0",
      "include_colab_link": true
    },
    "kernelspec": {
      "name": "python3",
      "display_name": "Python 3"
    },
    "language_info": {
      "name": "python"
    }
  },
  "cells": [
    {
      "cell_type": "markdown",
      "metadata": {
        "id": "view-in-github",
        "colab_type": "text"
      },
      "source": [
        "<a href=\"https://colab.research.google.com/github/suraj-07-coder/calculus/blob/main/First_order_differential_equation_using_Euler_method_and_mid_point_method.ipynb\" target=\"_parent\"><img src=\"https://colab.research.google.com/assets/colab-badge.svg\" alt=\"Open In Colab\"/></a>"
      ]
    },
    {
      "cell_type": "markdown",
      "source": [
        "#Analytical and Numerical Graph of dx/dt = x\n",
        "\n",
        "the Euler method for approximating the solution of a first-order ordinary differential equation (ODE) of the form:\n",
        "\n",
        "$$dy/dx = f(x,y)$$\n",
        "\n",
        "with initial condition $y(x0) = y0$, using a step size of h, can be written as:\n",
        "\n",
        "$$y_{n+1} = y_{n} + hf(xn, yn)$$\n",
        "\n",
        "where $xn+1 = xn + h$ and yn is the approximation of y(xn) obtained in the nth iteration.\n",
        "\n",
        "We can repeat this process to approximate the solution at subsequent points:\n",
        "\n",
        "$yn+2 = yn+1 + hf(xn+1, yn+1)$\n",
        "\n",
        "$yn+3 = yn+2 + hf(xn+2, yn+2)$\n",
        "\n",
        "...\n",
        "\n",
        "$yn+k = yn+k-1 + hf(xn+k-1, yn+k-1)$\n",
        "\n",
        "where $xn+k = x0 + kh.$\n",
        "\n",
        "This formula can be used to approximate the solution of the ODE at any point within the interval $[x0, x0+nh]$. Note that the accuracy of the method depends on the step size h, and a smaller step size generally leads to a more accurate approximation, but requires more computations."
      ],
      "metadata": {
        "id": "flO_DLEv9T3e"
      }
    },
    {
      "cell_type": "code",
      "source": [
        "import math\n",
        "import matplotlib.pyplot as plt"
      ],
      "metadata": {
        "id": "CWWsFYXj8Gba"
      },
      "execution_count": null,
      "outputs": []
    },
    {
      "cell_type": "code",
      "source": [
        "t0 = float(input('Enter initial point to : '))\n",
        "xn = float(input('Enter initial point(x0) correspondint to t0 : '))\n",
        "h = float(input('Enter steps h : '))\n",
        "n = int(input(\"Enter the number of observation : \"))"
      ],
      "metadata": {
        "colab": {
          "base_uri": "https://localhost:8080/"
        },
        "id": "XHbrvx-UCYpu",
        "outputId": "aad79878-6610-4b8d-dacb-27a5a5b28d5d"
      },
      "execution_count": null,
      "outputs": [
        {
          "name": "stdout",
          "output_type": "stream",
          "text": [
            "Enter initial point to : 0\n",
            "Enter initial point(x0) correspondint to t0 : 1\n",
            "Enter steps h : 0.1\n"
          ]
        }
      ]
    },
    {
      "cell_type": "code",
      "source": [
        "\n",
        "t= [ i/10 for i in range(n)] \n",
        "x = []\n",
        "y = []\n",
        "\n",
        "for k in range(n):\n",
        "\n",
        "  # Euler Method\n",
        "  xn =  xn*h + xn\n",
        "  # appending value for euler methods\n",
        "  x.append(xn) \n",
        "\n",
        "  # For e^x function  \n",
        "  yn = math.exp(t[k])\n",
        "  # appending method for e^x function\n",
        "  y.append(yn)"
      ],
      "metadata": {
        "id": "SPM7hdc2TX5y"
      },
      "execution_count": null,
      "outputs": []
    },
    {
      "cell_type": "code",
      "source": [
        "plt.plot(t, y, label= 'Analytical solution')\n",
        "plt.legend()\n",
        "plt.plot(t, x, label = 'Solution By Euler')\n",
        "plt.legend()"
      ],
      "metadata": {
        "colab": {
          "base_uri": "https://localhost:8080/",
          "height": 285
        },
        "id": "0pxIN6N5EAgO",
        "outputId": "4e615e73-c158-4c49-e57c-f80477ccee08"
      },
      "execution_count": null,
      "outputs": [
        {
          "output_type": "execute_result",
          "data": {
            "text/plain": [
              "<matplotlib.legend.Legend at 0x7fcb1817fc40>"
            ]
          },
          "metadata": {},
          "execution_count": 4
        },
        {
          "output_type": "display_data",
          "data": {
            "text/plain": [
              "<Figure size 432x288 with 1 Axes>"
            ],
            "image/png": "[encoded data removed]"
          },
          "metadata": {
            "needs_background": "light"
          }
        }
      ]
    },
    {
      "cell_type": "markdown",
      "source": [
        "##Error Measurment"
      ],
      "metadata": {
        "id": "-46MNZ1g9QNl"
      }
    },
    {
      "cell_type": "code",
      "source": [
        "# Narrowing the steps and creating list of that\n",
        "h = [0.1/i for i in range(1,n+1)]\n",
        "\n",
        "err = []    # acc for error percentage \n",
        "\n",
        "for k in range(n):\n",
        "\n",
        "  xn = x[5] + h[k]*(x[5])\n",
        "\n",
        "  # Appending the relative error w.r.t e^5 \n",
        "  err.append(abs((y[5]-xn)/y[5]))"
      ],
      "metadata": {
        "id": "N6KiTTC6Jjdj"
      },
      "execution_count": null,
      "outputs": []
    },
    {
      "cell_type": "code",
      "source": [
        "plt.plot(h,err)"
      ],
      "metadata": {
        "colab": {
          "base_uri": "https://localhost:8080/",
          "height": 282
        },
        "id": "Ons9DFTsRo5H",
        "outputId": "b0a4891e-d05c-4b37-8d28-2de80190d32b"
      },
      "execution_count": null,
      "outputs": [
        {
          "output_type": "execute_result",
          "data": {
            "text/plain": [
              "[<matplotlib.lines.Line2D at 0x7f14dba07040>]"
            ]
          },
          "metadata": {},
          "execution_count": 39
        },
        {
          "output_type": "display_data",
          "data": {
            "text/plain": [
              "<Figure size 432x288 with 1 Axes>"
            ],
            "image/png": "[encoded data removed]"
          },
          "metadata": {
            "needs_background": "light"
          }
        }
      ]
    },
    {
      "cell_type": "markdown",
      "source": [
        "##Mid-point method(Modified Euler method) and dxdt = x\n"
      ],
      "metadata": {
        "id": "sW7G_FWD9yrD"
      }
    },
    {
      "cell_type": "code",
      "source": [
        "\n",
        "t0 = float(input('Enter initial point to : '))\n",
        "x0 = float(input('Enter initial point(x0) correspondint to t0 : '))\n",
        "h = float(input('Enter steps h : '))"
      ],
      "metadata": {
        "colab": {
          "base_uri": "https://localhost:8080/"
        },
        "id": "DZR2ozm1e55b",
        "outputId": "6b14084a-5281-40ac-f500-e4a2c0394ded"
      },
      "execution_count": null,
      "outputs": [
        {
          "name": "stdout",
          "output_type": "stream",
          "text": [
            "Enter initial point to : 0\n",
            "Enter initial point(x0) correspondint to t0 : 1\n",
            "Enter steps h : 0.1\n"
          ]
        }
      ]
    },
    {
      "cell_type": "code",
      "source": [
        "ylist = []\n",
        "def f(t, x):\n",
        "    \"\"\"The differential equation to solve.\"\"\"\n",
        "    return  x\n",
        "\n",
        "\n",
        "\"\"\"\n",
        "The midpoint method for solving a first-order differential equation.\n",
        "\"\"\"\n",
        "t = t0\n",
        "x1 = x0\n",
        "tlst = []\n",
        "xlist = []\n",
        "ylist = []\n",
        "for i in range(n):\n",
        "    x_prime = f(t, x1)\n",
        "    x_midpoint = x1 + (h/2)*x_prime\n",
        "    t += h\n",
        "    x1 += h * f(t + (h/2), x_midpoint)\n",
        "    xlist.append(x1)\n",
        "    tlst.append(t)"
      ],
      "metadata": {
        "id": "AXjmh2sefOsM"
      },
      "execution_count": null,
      "outputs": []
    },
    {
      "cell_type": "code",
      "source": [
        "\n",
        "plt.plot(tlst, xlist, label = 'Solution By mid-point')\n",
        "plt.legend()"
      ],
      "metadata": {
        "colab": {
          "base_uri": "https://localhost:8080/",
          "height": 282
        },
        "id": "EgaNkBEsj3yB",
        "outputId": "8872c789-8141-472d-fdfd-fb9007bfdfd2"
      },
      "execution_count": null,
      "outputs": [
        {
          "output_type": "execute_result",
          "data": {
            "text/plain": [
              "<matplotlib.legend.Legend at 0x7f14dbfa1850>"
            ]
          },
          "metadata": {},
          "execution_count": 77
        },
        {
          "output_type": "display_data",
          "data": {
            "text/plain": [
              "<Figure size 432x288 with 1 Axes>"
            ],
            "image/png": "[encoded data removed]"
          },
          "metadata": {
            "needs_background": "light"
          }
        }
      ]
    }
  ]
}